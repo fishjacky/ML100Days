{
 "cells": [
  {
   "cell_type": "markdown",
   "metadata": {},
   "source": [
    "## [作業目標]\n",
    "了解機器學習適合應用的領域與範疇。"
   ]
  },
  {
   "cell_type": "markdown",
   "metadata": {},
   "source": [
    "## [作業重點]\n",
    "透過瞭解機器學習的運作方式，找出非常適用機器學習應用的領域及其原因"
   ]
  },
  {
   "cell_type": "markdown",
   "metadata": {},
   "source": [
    "## 作業\n",
    "請找出一個你認為機器學習可以發光發熱的領域並闡述原因? "
   ]
  },
  {
   "cell_type": "markdown",
   "metadata": {},
   "source": [
    "我覺得機器學習可以在 \"語意分析\" 這塊領域發光發熱，因為如果機器人像是鋼鐵人電影中的老賈一樣，可以根據語意甚至語氣來做出相對應的行為或回答，而不是很單單只是處於一問一答的情況，那麼對於無論在工作上或是私底下都可以更加幫助到人們的生活，但這樣的發展也是需要受到一定限度的控制，因為機器人可能可以藉由於學習與人們之間的對話進而發展出一塊屬於自己的語言模式，而這樣語言模式可能是我們所無法判讀的，到時這將會是一場災難\n",
    "  "
   ]
  }
 ],
 "metadata": {
  "kernelspec": {
   "display_name": "Python 3",
   "language": "python",
   "name": "python3"
  },
  "language_info": {
   "codemirror_mode": {
    "name": "ipython",
    "version": 3
   },
   "file_extension": ".py",
   "mimetype": "text/x-python",
   "name": "python",
   "nbconvert_exporter": "python",
   "pygments_lexer": "ipython3",
   "version": "3.7.6"
  }
 },
 "nbformat": 4,
 "nbformat_minor": 2
}
